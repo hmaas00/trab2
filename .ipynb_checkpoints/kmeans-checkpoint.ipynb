{
 "cells": [
  {
   "cell_type": "markdown",
   "metadata": {},
   "source": [
    "# Mini Projeto 01\n",
    "\n",
    "Aprendizado Não-Supervisionado - Professor Mateus Mendelson\n",
    "\n",
    "Integrantes: Nasser Santiago Boan, Emmanuel Moreira, Harlan Martins\n",
    "\n",
    "___\n",
    "\n",
    "O objetivo desse projeto é implementar um algoritmo KMeans. O KMeans é um algoritmo de clusterização de aprendizado não supervisionado, muito utilizado para procurar subsets dentro um conjunto de dados que se assemelham em termos de suas características X.\n",
    "\n",
    "## Preparando os dados\n",
    "\n",
    "Para que os dados estejam prontos para ser usados devemos, inicialmente, executar o script 'make_dataset.py'. Conforme abaixo."
   ]
  },
  {
   "cell_type": "code",
   "execution_count": 1,
   "metadata": {},
   "outputs": [
    {
     "name": "stdout",
     "output_type": "stream",
     "text": [
      ">> Lendo e tratando dataset!\n",
      ">> Dataset criado em 'data/meu_dataset.csv'\n",
      ">> O Dataset possui 1570 linhas e 3 colunas.\n"
     ]
    }
   ],
   "source": [
    "!python src/make_dataset.py"
   ]
  },
  {
   "cell_type": "markdown",
   "metadata": {},
   "source": [
    "Com o dataset carregado e criado, podemos agora começar a implementação do algoritmo. O algoritmo será implementado com o nome de classe MyKMeans."
   ]
  },
  {
   "cell_type": "code",
   "execution_count": 2,
   "metadata": {},
   "outputs": [],
   "source": [
    "import pandas as pd\n",
    "import plotly.express as px\n",
    "import plotly.graph_objects as go\n",
    "import numpy as np\n",
    "import math\n",
    "import numpy as np\n",
    "\n",
    "class MyKMeans:\n",
    "    def __init__(self,k=3,max_iter=300,tol=0.0001,data=None):\n",
    "        self.k = k\n",
    "        self.max_iter = max_iter\n",
    "        self.tol = tol\n",
    "        self.data = data\n",
    "        self.centroids = []\n",
    "        \n",
    "    def _initialize_centroids(self):\n",
    "        quant_quantis = 1/self.k\n",
    "        initial_centroids = []\n",
    "        for k in range(1,self.k+1):\n",
    "            initial_centroids.append([np.quantile(self.data[:,0],k*quant_quantis),np.quantile(self.data[:,1],k*quant_quantis)])\n",
    "        return np.array(initial_centroids)\n",
    "    \n",
    "    def fit_k_means(self,verbose=0):\n",
    "        self.centroids = self._initialize_centroids()\n",
    "        stop = self.centroids.copy()\n",
    "        count = 0\n",
    "        ## iterando sobre a quantidade max_iter\n",
    "        for n_iter in range(self.max_iter): # = 300\n",
    "            ## criando os clusters\n",
    "            classification = {}\n",
    "            for cluster in range(self.k): #k = 3\n",
    "                classification[cluster] = []\n",
    "            ## calculando as distancias\n",
    "            for point in self.data: #df[['cases','deaths']].values\n",
    "                distancias = [math.sqrt((centroid[0] - point[0])**2 + (centroid[1] - point[1])**2) for centroid in self.centroids]\n",
    "                ## achando o indice do menor valor na lista distancias\n",
    "                cluster = np.argmin(distancias)\n",
    "                ## adicionando esse ponto ao cluster \n",
    "                classification[cluster].append([value for value in point])\n",
    "                        \n",
    "            ## atribuindo novos centroids\n",
    "            for cluster in classification:\n",
    "                self.centroids[cluster] = np.mean(classification[cluster],axis=0)\n",
    "            ## implementando valor de tolerância\n",
    "            if np.allclose(self.centroids, stop, atol=self.tol):\n",
    "                break\n",
    "            stop = self.centroids.copy()\n",
    "            ## contando iterações\n",
    "            count += 1\n",
    "        \n",
    "        \n",
    "        if verbose == 1 :\n",
    "            print('Número de iterações: {}'.format(count))\n",
    "            \n",
    "        self.stop = stop\n",
    "        self.classification = classification\n",
    "        \n",
    "    def show_plot(self):\n",
    "        \n",
    "        if self.k <= 10:\n",
    "        \n",
    "            data_framed = []\n",
    "\n",
    "            for cluster in self.classification:\n",
    "                for point in self.classification[cluster]:\n",
    "                    point.append(cluster)\n",
    "                    data_framed.append(point)\n",
    "\n",
    "            df_plot = pd.DataFrame(data_framed,columns=['cases','deaths','cluster'])\n",
    "            df_plot['cluster'] = df_plot['cluster'].astype('str')\n",
    "\n",
    "            fig = px.scatter(df_plot, x = 'cases', y = 'deaths', color = 'cluster', color_discrete_sequence=px.colors.qualitative.Plotly[:self.k],title='Data and Centroids')\n",
    "            fig.add_scatter(x = self.stop[:,0], y = self.stop[:,1],mode='markers',name='Centroid',marker=dict(size=[20 for _ in range(self.k)],symbol='x',color=px.colors.qualitative.Plotly[:self.k]))\n",
    "\n",
    "            fig.show()\n",
    "        \n",
    "        else:\n",
    "            raise ValueError('plot can only be constructed with 10 or less clusters.')\n",
    "            \n",
    "    def labels_(self):\n",
    "        \n",
    "        labels = []\n",
    "        \n",
    "        for cluster in range(self.k):\n",
    "            for i in range(len(self.classification[cluster])):\n",
    "                labels.append(cluster)\n",
    "        \n",
    "        return labels    \n",
    "    \n",
    "    def distances_(self,method):\n",
    "        \n",
    "        if method == 'mean':\n",
    "            \"\"\" O desafio pede a média de todas as distâncias a seus referentes clusters \"\"\"\n",
    "            dist = {}\n",
    "\n",
    "            for cluster in self.classification:\n",
    "                dist[cluster] = np.mean([math.sqrt((self.stop[cluster][0] - point[0])**2 + (self.stop[cluster][1] - point[1])**2) for point in self.classification[cluster]])\n",
    "                \n",
    "            return dist\n",
    "        \n",
    "        elif method == 'inertia':\n",
    "            \"\"\" Já inertia pede a soma \"\"\"\n",
    "            \n",
    "            dist = {}\n",
    "\n",
    "            for cluster in self.classification:\n",
    "                dist[cluster] = np.sum([((self.stop[cluster][0] - point[0])**2 + (self.stop[cluster][1] - point[1])**2) for point in self.classification[cluster]])\n",
    "                \n",
    "            inertia = sum(dist.values())\n",
    "                \n",
    "            return inertia\n",
    "        \n",
    "    def try_k(self,how_many=10):\n",
    "        \n",
    "        data = []\n",
    "        \n",
    "        self.original_k = self.k\n",
    "        \n",
    "        for k in range(2,how_many):\n",
    "            self.k = k\n",
    "            self.fit_k_means()\n",
    "            data.append(self.distances_('inertia'))\n",
    "        \n",
    "                \n",
    "        fig = go.Figure(data=go.Scatter(x = list(range(2,how_many)), y = data,marker_line_color=\"midnightblue\", marker_color=\"lightskyblue\", \n",
    "                           marker_line_width=2, marker_size=7))\n",
    "        fig.update_layout(title='Finding the Elbow Point')\n",
    "        fig.show()"
   ]
  },
  {
   "cell_type": "markdown",
   "metadata": {},
   "source": [
    "Com o algortimo implementado acima podemos ler o dataset tratado e começar os testes."
   ]
  },
  {
   "cell_type": "code",
   "execution_count": 3,
   "metadata": {},
   "outputs": [
    {
     "name": "stdout",
     "output_type": "stream",
     "text": [
      "(1570, 3)\n"
     ]
    },
    {
     "data": {
      "text/html": [
       "<div>\n",
       "<style scoped>\n",
       "    .dataframe tbody tr th:only-of-type {\n",
       "        vertical-align: middle;\n",
       "    }\n",
       "\n",
       "    .dataframe tbody tr th {\n",
       "        vertical-align: top;\n",
       "    }\n",
       "\n",
       "    .dataframe thead th {\n",
       "        text-align: right;\n",
       "    }\n",
       "</style>\n",
       "<table border=\"1\" class=\"dataframe\">\n",
       "  <thead>\n",
       "    <tr style=\"text-align: right;\">\n",
       "      <th></th>\n",
       "      <th>county</th>\n",
       "      <th>cases</th>\n",
       "      <th>deaths</th>\n",
       "    </tr>\n",
       "  </thead>\n",
       "  <tbody>\n",
       "    <tr>\n",
       "      <th>0</th>\n",
       "      <td>Abbeville</td>\n",
       "      <td>84</td>\n",
       "      <td>0</td>\n",
       "    </tr>\n",
       "    <tr>\n",
       "      <th>1</th>\n",
       "      <td>Acadia</td>\n",
       "      <td>741</td>\n",
       "      <td>21</td>\n",
       "    </tr>\n",
       "    <tr>\n",
       "      <th>2</th>\n",
       "      <td>Accomack</td>\n",
       "      <td>116</td>\n",
       "      <td>0</td>\n",
       "    </tr>\n",
       "    <tr>\n",
       "      <th>3</th>\n",
       "      <td>Ada</td>\n",
       "      <td>4264</td>\n",
       "      <td>41</td>\n",
       "    </tr>\n",
       "    <tr>\n",
       "      <th>4</th>\n",
       "      <td>Adair</td>\n",
       "      <td>325</td>\n",
       "      <td>8</td>\n",
       "    </tr>\n",
       "  </tbody>\n",
       "</table>\n",
       "</div>"
      ],
      "text/plain": [
       "      county  cases  deaths\n",
       "0  Abbeville     84       0\n",
       "1     Acadia    741      21\n",
       "2   Accomack    116       0\n",
       "3        Ada   4264      41\n",
       "4      Adair    325       8"
      ]
     },
     "execution_count": 3,
     "metadata": {},
     "output_type": "execute_result"
    }
   ],
   "source": [
    "## carregando o dataset tratado\n",
    "\n",
    "df = pd.read_csv('data/meu_dataset.csv')\n",
    "print(df.shape)\n",
    "df.head()"
   ]
  },
  {
   "cell_type": "markdown",
   "metadata": {},
   "source": [
    "Primeiramente vamos instanciar o algoritmo MyKMeans e guardar dentro da variável 'sol'. A construção da classe pede alguns parâmetros:\n",
    "- k --> A quantidade de clusters que iremos utilizar no algoritmo;\n",
    "- max_iter --> O número máximo de iterações que o algoritmo irá executar;\n",
    "- tol --> O valor de tolerância na distância entre o centroide do cluster de uma iteração e sua posição na iteração anterior.\n",
    "- data --> Dados para treinamento."
   ]
  },
  {
   "cell_type": "code",
   "execution_count": 4,
   "metadata": {},
   "outputs": [],
   "source": [
    "## instanciando o algoritmo\n",
    "\n",
    "sol = MyKMeans(k=3,data = df[['cases','deaths']].values,max_iter = 300)"
   ]
  },
  {
   "cell_type": "markdown",
   "metadata": {},
   "source": [
    "Primeiramente vamos testar vários valores de K para descobrirmos o valor ótimo através do método Elbow. Nesse caso testaremos nosso modelos num range de 2 até 10."
   ]
  },
  {
   "cell_type": "code",
   "execution_count": 5,
   "metadata": {},
   "outputs": [
    {
     "data": {
      "application/vnd.plotly.v1+json": {
       "config": {
        "plotlyServerURL": "https://plot.ly"
       },
       "data": [
        {
         "marker": {
          "color": "lightskyblue",
          "line": {
           "color": "midnightblue",
           "width": 2
          },
          "size": 7
         },
         "type": "scatter",
         "x": [
          2,
          3,
          4,
          5,
          6,
          7,
          8,
          9,
          10
         ],
         "y": [
          179792922595.12686,
          57755815891.94301,
          19332075047.23671,
          10408995947.725267,
          5880990252.145915,
          4657430803.502621,
          3087118422.70996,
          2681371719.075179,
          2519330240.4825625
         ]
        }
       ],
       "layout": {
        "autosize": true,
        "template": {
         "data": {
          "bar": [
           {
            "error_x": {
             "color": "#2a3f5f"
            },
            "error_y": {
             "color": "#2a3f5f"
            },
            "marker": {
             "line": {
              "color": "#E5ECF6",
              "width": 0.5
             }
            },
            "type": "bar"
           }
          ],
          "barpolar": [
           {
            "marker": {
             "line": {
              "color": "#E5ECF6",
              "width": 0.5
             }
            },
            "type": "barpolar"
           }
          ],
          "carpet": [
           {
            "aaxis": {
             "endlinecolor": "#2a3f5f",
             "gridcolor": "white",
             "linecolor": "white",
             "minorgridcolor": "white",
             "startlinecolor": "#2a3f5f"
            },
            "baxis": {
             "endlinecolor": "#2a3f5f",
             "gridcolor": "white",
             "linecolor": "white",
             "minorgridcolor": "white",
             "startlinecolor": "#2a3f5f"
            },
            "type": "carpet"
           }
          ],
          "choropleth": [
           {
            "colorbar": {
             "outlinewidth": 0,
             "ticks": ""
            },
            "type": "choropleth"
           }
          ],
          "contour": [
           {
            "colorbar": {
             "outlinewidth": 0,
             "ticks": ""
            },
            "colorscale": [
             [
              0,
              "#0d0887"
             ],
             [
              0.1111111111111111,
              "#46039f"
             ],
             [
              0.2222222222222222,
              "#7201a8"
             ],
             [
              0.3333333333333333,
              "#9c179e"
             ],
             [
              0.4444444444444444,
              "#bd3786"
             ],
             [
              0.5555555555555556,
              "#d8576b"
             ],
             [
              0.6666666666666666,
              "#ed7953"
             ],
             [
              0.7777777777777778,
              "#fb9f3a"
             ],
             [
              0.8888888888888888,
              "#fdca26"
             ],
             [
              1,
              "#f0f921"
             ]
            ],
            "type": "contour"
           }
          ],
          "contourcarpet": [
           {
            "colorbar": {
             "outlinewidth": 0,
             "ticks": ""
            },
            "type": "contourcarpet"
           }
          ],
          "heatmap": [
           {
            "colorbar": {
             "outlinewidth": 0,
             "ticks": ""
            },
            "colorscale": [
             [
              0,
              "#0d0887"
             ],
             [
              0.1111111111111111,
              "#46039f"
             ],
             [
              0.2222222222222222,
              "#7201a8"
             ],
             [
              0.3333333333333333,
              "#9c179e"
             ],
             [
              0.4444444444444444,
              "#bd3786"
             ],
             [
              0.5555555555555556,
              "#d8576b"
             ],
             [
              0.6666666666666666,
              "#ed7953"
             ],
             [
              0.7777777777777778,
              "#fb9f3a"
             ],
             [
              0.8888888888888888,
              "#fdca26"
             ],
             [
              1,
              "#f0f921"
             ]
            ],
            "type": "heatmap"
           }
          ],
          "heatmapgl": [
           {
            "colorbar": {
             "outlinewidth": 0,
             "ticks": ""
            },
            "colorscale": [
             [
              0,
              "#0d0887"
             ],
             [
              0.1111111111111111,
              "#46039f"
             ],
             [
              0.2222222222222222,
              "#7201a8"
             ],
             [
              0.3333333333333333,
              "#9c179e"
             ],
             [
              0.4444444444444444,
              "#bd3786"
             ],
             [
              0.5555555555555556,
              "#d8576b"
             ],
             [
              0.6666666666666666,
              "#ed7953"
             ],
             [
              0.7777777777777778,
              "#fb9f3a"
             ],
             [
              0.8888888888888888,
              "#fdca26"
             ],
             [
              1,
              "#f0f921"
             ]
            ],
            "type": "heatmapgl"
           }
          ],
          "histogram": [
           {
            "marker": {
             "colorbar": {
              "outlinewidth": 0,
              "ticks": ""
             }
            },
            "type": "histogram"
           }
          ],
          "histogram2d": [
           {
            "colorbar": {
             "outlinewidth": 0,
             "ticks": ""
            },
            "colorscale": [
             [
              0,
              "#0d0887"
             ],
             [
              0.1111111111111111,
              "#46039f"
             ],
             [
              0.2222222222222222,
              "#7201a8"
             ],
             [
              0.3333333333333333,
              "#9c179e"
             ],
             [
              0.4444444444444444,
              "#bd3786"
             ],
             [
              0.5555555555555556,
              "#d8576b"
             ],
             [
              0.6666666666666666,
              "#ed7953"
             ],
             [
              0.7777777777777778,
              "#fb9f3a"
             ],
             [
              0.8888888888888888,
              "#fdca26"
             ],
             [
              1,
              "#f0f921"
             ]
            ],
            "type": "histogram2d"
           }
          ],
          "histogram2dcontour": [
           {
            "colorbar": {
             "outlinewidth": 0,
             "ticks": ""
            },
            "colorscale": [
             [
              0,
              "#0d0887"
             ],
             [
              0.1111111111111111,
              "#46039f"
             ],
             [
              0.2222222222222222,
              "#7201a8"
             ],
             [
              0.3333333333333333,
              "#9c179e"
             ],
             [
              0.4444444444444444,
              "#bd3786"
             ],
             [
              0.5555555555555556,
              "#d8576b"
             ],
             [
              0.6666666666666666,
              "#ed7953"
             ],
             [
              0.7777777777777778,
              "#fb9f3a"
             ],
             [
              0.8888888888888888,
              "#fdca26"
             ],
             [
              1,
              "#f0f921"
             ]
            ],
            "type": "histogram2dcontour"
           }
          ],
          "mesh3d": [
           {
            "colorbar": {
             "outlinewidth": 0,
             "ticks": ""
            },
            "type": "mesh3d"
           }
          ],
          "parcoords": [
           {
            "line": {
             "colorbar": {
              "outlinewidth": 0,
              "ticks": ""
             }
            },
            "type": "parcoords"
           }
          ],
          "pie": [
           {
            "automargin": true,
            "type": "pie"
           }
          ],
          "scatter": [
           {
            "marker": {
             "colorbar": {
              "outlinewidth": 0,
              "ticks": ""
             }
            },
            "type": "scatter"
           }
          ],
          "scatter3d": [
           {
            "line": {
             "colorbar": {
              "outlinewidth": 0,
              "ticks": ""
             }
            },
            "marker": {
             "colorbar": {
              "outlinewidth": 0,
              "ticks": ""
             }
            },
            "type": "scatter3d"
           }
          ],
          "scattercarpet": [
           {
            "marker": {
             "colorbar": {
              "outlinewidth": 0,
              "ticks": ""
             }
            },
            "type": "scattercarpet"
           }
          ],
          "scattergeo": [
           {
            "marker": {
             "colorbar": {
              "outlinewidth": 0,
              "ticks": ""
             }
            },
            "type": "scattergeo"
           }
          ],
          "scattergl": [
           {
            "marker": {
             "colorbar": {
              "outlinewidth": 0,
              "ticks": ""
             }
            },
            "type": "scattergl"
           }
          ],
          "scattermapbox": [
           {
            "marker": {
             "colorbar": {
              "outlinewidth": 0,
              "ticks": ""
             }
            },
            "type": "scattermapbox"
           }
          ],
          "scatterpolar": [
           {
            "marker": {
             "colorbar": {
              "outlinewidth": 0,
              "ticks": ""
             }
            },
            "type": "scatterpolar"
           }
          ],
          "scatterpolargl": [
           {
            "marker": {
             "colorbar": {
              "outlinewidth": 0,
              "ticks": ""
             }
            },
            "type": "scatterpolargl"
           }
          ],
          "scatterternary": [
           {
            "marker": {
             "colorbar": {
              "outlinewidth": 0,
              "ticks": ""
             }
            },
            "type": "scatterternary"
           }
          ],
          "surface": [
           {
            "colorbar": {
             "outlinewidth": 0,
             "ticks": ""
            },
            "colorscale": [
             [
              0,
              "#0d0887"
             ],
             [
              0.1111111111111111,
              "#46039f"
             ],
             [
              0.2222222222222222,
              "#7201a8"
             ],
             [
              0.3333333333333333,
              "#9c179e"
             ],
             [
              0.4444444444444444,
              "#bd3786"
             ],
             [
              0.5555555555555556,
              "#d8576b"
             ],
             [
              0.6666666666666666,
              "#ed7953"
             ],
             [
              0.7777777777777778,
              "#fb9f3a"
             ],
             [
              0.8888888888888888,
              "#fdca26"
             ],
             [
              1,
              "#f0f921"
             ]
            ],
            "type": "surface"
           }
          ],
          "table": [
           {
            "cells": {
             "fill": {
              "color": "#EBF0F8"
             },
             "line": {
              "color": "white"
             }
            },
            "header": {
             "fill": {
              "color": "#C8D4E3"
             },
             "line": {
              "color": "white"
             }
            },
            "type": "table"
           }
          ]
         },
         "layout": {
          "annotationdefaults": {
           "arrowcolor": "#2a3f5f",
           "arrowhead": 0,
           "arrowwidth": 1
          },
          "coloraxis": {
           "colorbar": {
            "outlinewidth": 0,
            "ticks": ""
           }
          },
          "colorscale": {
           "diverging": [
            [
             0,
             "#8e0152"
            ],
            [
             0.1,
             "#c51b7d"
            ],
            [
             0.2,
             "#de77ae"
            ],
            [
             0.3,
             "#f1b6da"
            ],
            [
             0.4,
             "#fde0ef"
            ],
            [
             0.5,
             "#f7f7f7"
            ],
            [
             0.6,
             "#e6f5d0"
            ],
            [
             0.7,
             "#b8e186"
            ],
            [
             0.8,
             "#7fbc41"
            ],
            [
             0.9,
             "#4d9221"
            ],
            [
             1,
             "#276419"
            ]
           ],
           "sequential": [
            [
             0,
             "#0d0887"
            ],
            [
             0.1111111111111111,
             "#46039f"
            ],
            [
             0.2222222222222222,
             "#7201a8"
            ],
            [
             0.3333333333333333,
             "#9c179e"
            ],
            [
             0.4444444444444444,
             "#bd3786"
            ],
            [
             0.5555555555555556,
             "#d8576b"
            ],
            [
             0.6666666666666666,
             "#ed7953"
            ],
            [
             0.7777777777777778,
             "#fb9f3a"
            ],
            [
             0.8888888888888888,
             "#fdca26"
            ],
            [
             1,
             "#f0f921"
            ]
           ],
           "sequentialminus": [
            [
             0,
             "#0d0887"
            ],
            [
             0.1111111111111111,
             "#46039f"
            ],
            [
             0.2222222222222222,
             "#7201a8"
            ],
            [
             0.3333333333333333,
             "#9c179e"
            ],
            [
             0.4444444444444444,
             "#bd3786"
            ],
            [
             0.5555555555555556,
             "#d8576b"
            ],
            [
             0.6666666666666666,
             "#ed7953"
            ],
            [
             0.7777777777777778,
             "#fb9f3a"
            ],
            [
             0.8888888888888888,
             "#fdca26"
            ],
            [
             1,
             "#f0f921"
            ]
           ]
          },
          "colorway": [
           "#636efa",
           "#EF553B",
           "#00cc96",
           "#ab63fa",
           "#FFA15A",
           "#19d3f3",
           "#FF6692",
           "#B6E880",
           "#FF97FF",
           "#FECB52"
          ],
          "font": {
           "color": "#2a3f5f"
          },
          "geo": {
           "bgcolor": "white",
           "lakecolor": "white",
           "landcolor": "#E5ECF6",
           "showlakes": true,
           "showland": true,
           "subunitcolor": "white"
          },
          "hoverlabel": {
           "align": "left"
          },
          "hovermode": "closest",
          "mapbox": {
           "style": "light"
          },
          "paper_bgcolor": "white",
          "plot_bgcolor": "#E5ECF6",
          "polar": {
           "angularaxis": {
            "gridcolor": "white",
            "linecolor": "white",
            "ticks": ""
           },
           "bgcolor": "#E5ECF6",
           "radialaxis": {
            "gridcolor": "white",
            "linecolor": "white",
            "ticks": ""
           }
          },
          "scene": {
           "xaxis": {
            "backgroundcolor": "#E5ECF6",
            "gridcolor": "white",
            "gridwidth": 2,
            "linecolor": "white",
            "showbackground": true,
            "ticks": "",
            "zerolinecolor": "white"
           },
           "yaxis": {
            "backgroundcolor": "#E5ECF6",
            "gridcolor": "white",
            "gridwidth": 2,
            "linecolor": "white",
            "showbackground": true,
            "ticks": "",
            "zerolinecolor": "white"
           },
           "zaxis": {
            "backgroundcolor": "#E5ECF6",
            "gridcolor": "white",
            "gridwidth": 2,
            "linecolor": "white",
            "showbackground": true,
            "ticks": "",
            "zerolinecolor": "white"
           }
          },
          "shapedefaults": {
           "line": {
            "color": "#2a3f5f"
           }
          },
          "ternary": {
           "aaxis": {
            "gridcolor": "white",
            "linecolor": "white",
            "ticks": ""
           },
           "baxis": {
            "gridcolor": "white",
            "linecolor": "white",
            "ticks": ""
           },
           "bgcolor": "#E5ECF6",
           "caxis": {
            "gridcolor": "white",
            "linecolor": "white",
            "ticks": ""
           }
          },
          "title": {
           "x": 0.05
          },
          "xaxis": {
           "automargin": true,
           "gridcolor": "white",
           "linecolor": "white",
           "ticks": "",
           "title": {
            "standoff": 15
           },
           "zerolinecolor": "white",
           "zerolinewidth": 2
          },
          "yaxis": {
           "automargin": true,
           "gridcolor": "white",
           "linecolor": "white",
           "ticks": "",
           "title": {
            "standoff": 15
           },
           "zerolinecolor": "white",
           "zerolinewidth": 2
          }
         }
        },
        "title": {
         "text": "Finding the Elbow Point"
        },
        "xaxis": {
         "autorange": true,
         "range": [
          1.5086534402701564,
          10.491346559729843
         ],
         "type": "linear"
        },
        "yaxis": {
         "autorange": true,
         "range": [
          -11007950286.04579,
          193320203121.6552
         ],
         "type": "linear"
        }
       }
      },
      "image/png": "[encoded data removed]"
     },
     "metadata": {},
     "output_type": "display_data"
    }
   ],
   "source": [
    "sol.try_k(11)"
   ]
  },
  {
   "cell_type": "markdown",
   "metadata": {},
   "source": [
    "No eixo Y temos a inércia de cada iteração do algoritmo. Percebemos que quando k assume o valor 4 temos um ponto de inflexão, ou seja, as inércias subsequentes não demonstram grande variação em seu valor comparando com o mesmo valor em k-1. Levando em consideração os resultados acima podemos treinar o algoritmo levando em consideração K = 4."
   ]
  },
  {
   "cell_type": "code",
   "execution_count": 6,
   "metadata": {},
   "outputs": [],
   "source": [
    "## reinstanciando o modelo com novo valor de K\n",
    "\n",
    "sol = MyKMeans(k=4,data = df[['cases','deaths']].values,max_iter = 300)"
   ]
  },
  {
   "cell_type": "markdown",
   "metadata": {},
   "source": [
    "Agora estamos prontos para treinar o modelo."
   ]
  },
  {
   "cell_type": "code",
   "execution_count": 7,
   "metadata": {},
   "outputs": [
    {
     "name": "stdout",
     "output_type": "stream",
     "text": [
      "Número de iterações: 18\n"
     ]
    }
   ],
   "source": [
    "## treinando o modelo\n",
    "\n",
    "sol.fit_k_means(verbose=1)"
   ]
  },
  {
   "cell_type": "markdown",
   "metadata": {},
   "source": [
    "Ao treinar o algoritmo ele diz quantas iterações foram necessárias para convergir levando em consideração a tolerâncio configurada em seu instanciamento. Podemos, então verificar os pontos e seus centróides."
   ]
  },
  {
   "cell_type": "code",
   "execution_count": 8,
   "metadata": {},
   "outputs": [
    {
     "data": {
      "application/vnd.plotly.v1+json": {
       "config": {
        "plotlyServerURL": "https://plot.ly"
       },
       "data": [
        {
         "hoverlabel": {
          "namelength": 0
         },
         "hovertemplate": "cluster=0<br>cases=%{x}<br>deaths=%{y}",
         "legendgroup": "cluster=0",
         "marker": {
          "color": "#636EFA",
          "symbol": "circle"
         },
         "mode": "markers",
         "name": "cluster=0",
         "showlegend": true,
         "type": "scattergl",
         "x": [
          84,
          741,
          116,
          4264,
          325,
          5003,
          470,
          298,
          1763,
          209,
          7792,
          45,
          4806,
          385,
          52,
          21,
          956,
          228,
          125,
          228,
          43,
          6950,
          1474,
          15,
          15,
          34,
          59,
          76,
          70,
          1177,
          1078,
          48,
          254,
          110,
          3572,
          493,
          40,
          11,
          48,
          335,
          15,
          48,
          11,
          12,
          7317,
          36,
          25,
          16,
          2420,
          134,
          10,
          3528,
          9,
          57,
          47,
          163,
          22,
          629,
          42,
          31,
          40,
          15,
          1184,
          8,
          191,
          11,
          62,
          67,
          14,
          53,
          152,
          451,
          81,
          85,
          250,
          608,
          2,
          6421,
          4554,
          49,
          1,
          34,
          66,
          3,
          46,
          26,
          4173,
          26,
          17,
          28,
          336,
          77,
          487,
          28,
          2728,
          139,
          39,
          8,
          39,
          534,
          45,
          364,
          1892,
          193,
          999,
          6,
          11,
          190,
          2,
          251,
          768,
          253,
          58,
          57,
          361,
          3054,
          1,
          1019,
          3261,
          3376,
          3131,
          729,
          94,
          3,
          5229,
          512,
          141,
          18,
          31,
          170,
          23,
          8,
          4515,
          73,
          28,
          11,
          31,
          511,
          215,
          477,
          19,
          36,
          32,
          22,
          58,
          1964,
          1495,
          140,
          2339,
          139,
          218,
          3,
          128,
          133,
          56,
          13,
          215,
          325,
          111,
          19,
          2,
          1756,
          1065,
          41,
          29,
          14,
          925,
          7546,
          14,
          58,
          4,
          42,
          71,
          826,
          506,
          24427,
          659,
          334,
          242,
          160,
          45,
          7344,
          3,
          22,
          213,
          114,
          72,
          38,
          382,
          32,
          352,
          604,
          28,
          6023,
          47,
          1,
          2192,
          153,
          170,
          830,
          70,
          218,
          6840,
          63,
          1575,
          215,
          65,
          1246,
          3,
          219,
          74,
          44,
          424,
          10,
          68,
          6762,
          832,
          11,
          404,
          407,
          23,
          62,
          1144,
          221,
          689,
          598,
          6,
          79,
          95,
          4439,
          149,
          89,
          203,
          198,
          155,
          1230,
          45,
          138,
          17,
          104,
          267,
          76,
          9,
          118,
          107,
          386,
          208,
          512,
          134,
          272,
          1191,
          676,
          46,
          1217,
          48,
          37,
          3253,
          105,
          601,
          284,
          39,
          1242,
          24,
          45,
          167,
          180,
          185,
          67,
          390,
          432,
          453,
          2127,
          6,
          690,
          121,
          3736,
          1315,
          4,
          223,
          36,
          210,
          186,
          61,
          3193,
          179,
          7,
          706,
          122,
          510,
          1070,
          296,
          131,
          30,
          559,
          58,
          21884,
          1094,
          55,
          1943,
          2638,
          106,
          74,
          24,
          1177,
          260,
          2189,
          31,
          1607,
          12,
          413,
          6209,
          89,
          24,
          1816,
          106,
          396,
          270,
          68,
          395,
          5,
          18,
          106,
          3014,
          3713,
          28,
          532,
          1967,
          482,
          75,
          25,
          246,
          399,
          81,
          18,
          5116,
          33,
          47,
          7,
          27,
          7,
          82,
          221,
          1,
          161,
          64,
          130,
          36,
          32,
          47,
          111,
          9,
          823,
          9,
          251,
          43,
          228,
          31,
          170,
          483,
          476,
          21,
          374,
          589,
          15,
          3,
          54,
          55,
          22,
          213,
          96,
          5589,
          14,
          23,
          83,
          123,
          10825,
          13,
          901,
          25,
          3,
          14015,
          3872,
          132,
          27,
          314,
          279,
          1243,
          12745,
          181,
          682,
          1797,
          70,
          244,
          794,
          13,
          7676,
          1825,
          80,
          62,
          358,
          1113,
          35,
          106,
          14,
          10318,
          103,
          4037,
          10692,
          22,
          568,
          61,
          13,
          3,
          2,
          29,
          300,
          22,
          5,
          12485,
          13,
          6,
          460,
          17,
          53,
          191,
          39,
          497,
          8795,
          7825,
          409,
          50,
          8112,
          65,
          337,
          10,
          69,
          95,
          81,
          51,
          2595,
          11873,
          4904,
          103,
          4999,
          775,
          7071,
          13,
          308,
          45,
          553,
          238,
          6,
          219,
          66,
          70,
          62,
          44,
          155,
          305,
          6808,
          121,
          6,
          412,
          97,
          412,
          417,
          23,
          11,
          125,
          5,
          18,
          61,
          11808,
          1604,
          330,
          227,
          697,
          5472,
          8,
          12,
          17,
          125,
          32,
          14,
          660,
          143,
          3709,
          16,
          16,
          132,
          73,
          376,
          294,
          431,
          1650,
          92,
          637,
          51,
          26,
          589,
          1907,
          3598,
          16,
          23,
          11857,
          33,
          1516,
          61,
          96,
          583,
          1454,
          2,
          12825,
          45,
          93,
          16,
          14,
          1414,
          42,
          2538,
          673,
          629,
          58,
          122,
          15,
          540,
          14,
          17,
          454,
          75,
          5815,
          1,
          4,
          58,
          224,
          180,
          27,
          6,
          38,
          14,
          20,
          1,
          10,
          40,
          49,
          24,
          2930,
          328,
          33,
          14,
          10,
          181,
          94,
          20,
          338,
          24,
          13,
          14,
          124,
          708,
          49,
          27,
          72,
          86,
          5,
          150,
          1705,
          458,
          56,
          22,
          48,
          62,
          169,
          109,
          38,
          2250,
          11,
          45,
          8,
          2327,
          129,
          166,
          210,
          79,
          46,
          229,
          337,
          12,
          1160,
          9,
          1518,
          11,
          5090,
          43,
          98,
          118,
          2030,
          56,
          7844,
          13,
          8680,
          1453,
          21,
          370,
          1373,
          172,
          3,
          118,
          15,
          53,
          438,
          18,
          679,
          384,
          18313,
          2204,
          267,
          40,
          9833,
          30,
          289,
          124,
          634,
          61,
          32,
          6,
          31,
          620,
          1953,
          78,
          4105,
          2031,
          2396,
          302,
          539,
          52,
          14,
          993,
          49,
          376,
          57,
          9255,
          434,
          1905,
          20,
          131,
          118,
          327,
          3470,
          101,
          37,
          93,
          412,
          918,
          72,
          14,
          12,
          1003,
          2982,
          17,
          17,
          36,
          654,
          89,
          83,
          2263,
          41,
          46,
          139,
          38,
          811,
          1264,
          29,
          748,
          71,
          657,
          136,
          1912,
          131,
          88,
          30,
          114,
          555,
          139,
          53,
          87,
          164,
          34,
          1959,
          176,
          19,
          70,
          4,
          1,
          5413,
          1668,
          573,
          22,
          7,
          180,
          38,
          379,
          1,
          131,
          21,
          211,
          8,
          15,
          58,
          7294,
          410,
          260,
          169,
          11,
          57,
          148,
          103,
          579,
          105,
          616,
          25,
          2723,
          1055,
          2398,
          27,
          228,
          111,
          407,
          23,
          63,
          158,
          702,
          283,
          1107,
          4344,
          603,
          21,
          2453,
          16,
          2271,
          244,
          4,
          56,
          86,
          16,
          11,
          23,
          59,
          2,
          8,
          51,
          1397,
          217,
          168,
          19,
          164,
          1661,
          8,
          485,
          116,
          19,
          319,
          36,
          368,
          51,
          231,
          172,
          45,
          18,
          2005,
          3305,
          2611,
          15225,
          380,
          13,
          215,
          10,
          4471,
          325,
          25,
          400,
          558,
          2004,
          29,
          8,
          14,
          35,
          954,
          29,
          319,
          33,
          1057,
          15,
          251,
          34,
          134,
          496,
          1074,
          8600,
          37,
          377,
          9103,
          340,
          84,
          620,
          5,
          5,
          41,
          312,
          212,
          1271,
          20,
          212,
          563,
          442,
          1935,
          2582,
          2529,
          24,
          2677,
          42,
          380,
          16,
          189,
          1549,
          13,
          162,
          2045,
          277,
          19,
          808,
          1690,
          3178,
          10,
          112,
          6,
          7435,
          114,
          21,
          134,
          32,
          360,
          20,
          22384,
          324,
          48,
          395,
          6188,
          40,
          14,
          2988,
          7,
          17,
          29,
          176,
          1559,
          52,
          17,
          108,
          113,
          15606,
          20,
          2083,
          27,
          24733,
          62,
          147,
          956,
          1320,
          252,
          14,
          464,
          59,
          29,
          559,
          282,
          54,
          97,
          134,
          46,
          13,
          116,
          21,
          1,
          10,
          33,
          117,
          92,
          1586,
          42,
          13,
          31,
          463,
          566,
          821,
          7,
          51,
          41,
          88,
          30,
          15,
          8539,
          60,
          1114,
          12,
          28,
          16,
          63,
          46,
          9,
          277,
          8030,
          147,
          13,
          537,
          288,
          1157,
          524,
          56,
          45,
          17,
          222,
          6,
          14944,
          39,
          23,
          1366,
          15,
          26,
          294,
          817,
          1640,
          46,
          177,
          46,
          26770,
          231,
          69,
          667,
          15240,
          14,
          163,
          822,
          56,
          27995,
          259,
          317,
          260,
          128,
          1529,
          20295,
          59,
          280,
          11,
          149,
          247,
          130,
          2649,
          100,
          425,
          543,
          377,
          52,
          206,
          10,
          144,
          106,
          311,
          195,
          157,
          268,
          2225,
          69,
          102,
          22,
          16,
          98,
          396,
          5204,
          509,
          13763,
          77,
          763,
          22,
          31,
          75,
          482,
          538,
          835,
          164,
          1246,
          19,
          74,
          1,
          178,
          10,
          16125,
          623,
          7108,
          169,
          22,
          87,
          56,
          605,
          81,
          23,
          26,
          24380,
          34,
          411,
          13,
          31,
          2,
          56,
          16,
          222,
          836,
          86,
          29,
          3366,
          99,
          335,
          116,
          11,
          1174,
          1079,
          4129,
          188,
          456,
          3,
          379,
          3,
          369,
          13,
          2711,
          21,
          327,
          70,
          8,
          642,
          802,
          17,
          1987,
          16,
          241,
          41,
          189,
          22,
          177,
          803,
          56,
          11652,
          13,
          25,
          200,
          150,
          26,
          71,
          1173,
          88,
          631,
          282,
          57,
          270,
          178,
          666,
          4,
          38,
          8,
          10,
          23,
          78,
          286,
          183,
          18,
          583,
          47,
          6,
          81,
          24,
          9,
          33,
          20,
          248,
          489,
          9099,
          1842,
          4259,
          1348,
          3,
          4048,
          5,
          698,
          454,
          52,
          26,
          1433,
          998,
          222,
          14,
          23,
          10944,
          82,
          189,
          4002,
          219,
          158,
          41,
          926,
          632,
          286,
          57,
          176,
          114,
          374,
          10,
          6,
          90,
          44,
          12,
          9,
          45,
          92,
          5,
          54,
          51,
          170,
          9323,
          2216,
          6128,
          1,
          469,
          2809,
          5282,
          134,
          99,
          34,
          624,
          15,
          54,
          16,
          1305,
          298,
          1195,
          869,
          1216,
          3,
          28,
          41,
          23,
          4,
          131,
          1076,
          35,
          10,
          22,
          2,
          61,
          3737,
          729,
          1000,
          133,
          71,
          7,
          63,
          684,
          9158,
          75,
          64,
          111,
          34,
          712,
          59,
          364,
          414,
          37,
          23,
          828,
          3098,
          119,
          122,
          5,
          38,
          46,
          3,
          55,
          368,
          534,
          111,
          131,
          106,
          1830,
          268,
          54,
          5879,
          159,
          1323,
          26,
          284,
          8,
          380,
          8688,
          47,
          42,
          36,
          379,
          4831,
          16245,
          8259,
          14,
          2888,
          990,
          1484,
          7655,
          117,
          51,
          1035,
          64,
          373,
          146,
          2149,
          18121,
          1047,
          831,
          724,
          1793,
          2237,
          366,
          247,
          47,
          1,
          1865,
          68,
          128,
          4,
          39,
          980,
          5,
          38,
          1392,
          50,
          26,
          1,
          79,
          111,
          1250,
          2377,
          136,
          14,
          65,
          245,
          12,
          28,
          10,
          204,
          15,
          382,
          316,
          11820,
          131,
          113,
          185,
          5,
          223,
          15,
          167,
          166,
          86,
          62,
          2335,
          18,
          14,
          932,
          30,
          24961,
          66,
          90,
          1475,
          10016,
          1576,
          43,
          7,
          422,
          946,
          49,
          19,
          2852,
          236,
          2507,
          4460,
          2397,
          103,
          130,
          157,
          52,
          1681,
          3522,
          1652,
          1296,
          650,
          577,
          11214,
          3598,
          975,
          832,
          633,
          419,
          6188,
          493,
          907,
          89,
          4,
          1369,
          39,
          61,
          6,
          49,
          133,
          116,
          198,
          58,
          763,
          87,
          32,
          1,
          72,
          48,
          120,
          66,
          494,
          2,
          13,
          200,
          2967,
          6387,
          3602,
          3093,
          235,
          77,
          73,
          5079,
          188,
          234,
          50,
          3,
          13,
          85,
          130,
          201,
          40,
          310,
          359,
          60,
          1504,
          190,
          5040,
          194,
          41,
          334,
          151,
          7,
          36,
          148,
          1626,
          715,
          54,
          510,
          25,
          345,
          911,
          454,
          39,
          6,
          178,
          466,
          349,
          474,
          11,
          12,
          22,
          1217,
          180,
          1199,
          237,
          148,
          67,
          55,
          10,
          69,
          20,
          5513,
          8,
          4,
          13,
          430,
          94,
          1065,
          52,
          1392,
          2480,
          200,
          12,
          183,
          751,
          234,
          225,
          35,
          414,
          16,
          18,
          22,
          4229,
          113,
          15,
          64,
          202,
          2075,
          48,
          92,
          74,
          32,
          524,
          22,
          59,
          114,
          395,
          40,
          2848,
          209,
          14,
          104,
          376,
          221,
          45,
          1831,
          1751,
          33,
          89,
          5,
          426,
          11,
          3933,
          47,
          55,
          805,
          170,
          84,
          11,
          26,
          149,
          552,
          227,
          22,
          205,
          262,
          3703,
          187,
          954,
          83,
          62,
          32,
          11741,
          1,
          3201,
          6218,
          111,
          33,
          2013,
          24,
          5,
          23,
          34,
          1047,
          826,
          656,
          5490,
          38,
          439,
          4,
          214,
          1582,
          22,
          57,
          134,
          2753,
          14,
          388,
          1,
          164,
          213,
          61,
          145,
          567,
          164,
          125,
          78,
          25,
          357,
          7035,
          48,
          54,
          95,
          177,
          4253,
          1377,
          105,
          705,
          384,
          33,
          763,
          58,
          161,
          191,
          12,
          45,
          488,
          102,
          183,
          17,
          36,
          8,
          11271,
          490,
          224,
          46,
          1993,
          284,
          31,
          69,
          3870,
          105,
          325,
          140,
          15,
          506,
          276,
          5,
          11,
          587,
          6,
          587,
          4389,
          32,
          135,
          8,
          216,
          4
         ],
         "xaxis": "x",
         "y": [
          0,
          21,
          0,
          41,
          8,
          101,
          0,
          10,
          0,
          0,
          153,
          2,
          66,
          0,
          0,
          0,
          3,
          14,
          0,
          7,
          0,
          64,
          87,
          0,
          0,
          0,
          0,
          0,
          11,
          33,
          55,
          0,
          0,
          0,
          62,
          0,
          0,
          0,
          0,
          6,
          5,
          0,
          0,
          0,
          138,
          0,
          0,
          0,
          24,
          0,
          0,
          111,
          0,
          0,
          0,
          0,
          0,
          1,
          0,
          0,
          11,
          0,
          17,
          0,
          0,
          0,
          1,
          0,
          0,
          0,
          4,
          10,
          0,
          0,
          24,
          20,
          0,
          78,
          69,
          0,
          0,
          0,
          0,
          0,
          0,
          0,
          76,
          0,
          0,
          0,
          34,
          0,
          13,
          0,
          90,
          4,
          0,
          0,
          0,
          6,
          0,
          9,
          32,
          2,
          60,
          0,
          0,
          0,
          0,
          0,
          20,
          4,
          0,
          0,
          2,
          191,
          0,
          0,
          29,
          147,
          77,
          15,
          8,
          0,
          156,
          9,
          16,
          0,
          0,
          0,
          0,
          0,
          38,
          0,
          0,
          0,
          0,
          9,
          0,
          16,
          0,
          0,
          0,
          0,
          0,
          38,
          31,
          0,
          34,
          28,
          22,
          0,
          0,
          11,
          0,
          0,
          0,
          0,
          6,
          3,
          0,
          11,
          57,
          0,
          0,
          0,
          6,
          105,
          0,
          0,
          0,
          0,
          2,
          64,
          19,
          431,
          14,
          7,
          13,
          1,
          0,
          158,
          0,
          0,
          15,
          16,
          0,
          0,
          12,
          0,
          9,
          0,
          0,
          128,
          0,
          0,
          40,
          0,
          0,
          20,
          0,
          0,
          176,
          0,
          31,
          0,
          0,
          28,
          0,
          4,
          3,
          0,
          9,
          0,
          3,
          129,
          3,
          0,
          11,
          10,
          0,
          0,
          24,
          3,
          15,
          11,
          0,
          0,
          0,
          135,
          0,
          6,
          3,
          0,
          0,
          42,
          10,
          6,
          0,
          19,
          7,
          0,
          0,
          0,
          4,
          9,
          0,
          0,
          0,
          24,
          65,
          3,
          0,
          19,
          0,
          0,
          21,
          0,
          10,
          3,
          0,
          34,
          0,
          4,
          5,
          0,
          0,
          6,
          55,
          3,
          0,
          66,
          0,
          7,
          4,
          32,
          0,
          0,
          15,
          0,
          0,
          0,
          7,
          120,
          5,
          0,
          24,
          0,
          34,
          44,
          16,
          0,
          0,
          25,
          0,
          714,
          92,
          0,
          101,
          90,
          0,
          0,
          0,
          46,
          7,
          119,
          0,
          10,
          0,
          6,
          302,
          0,
          0,
          108,
          0,
          6,
          5,
          4,
          7,
          0,
          0,
          0,
          24,
          43,
          0,
          33,
          36,
          47,
          4,
          0,
          29,
          0,
          7,
          0,
          72,
          0,
          13,
          0,
          0,
          0,
          0,
          0,
          0,
          0,
          0,
          0,
          0,
          0,
          0,
          0,
          0,
          34,
          1,
          0,
          0,
          0,
          0,
          1,
          14,
          17,
          0,
          0,
          5,
          0,
          0,
          0,
          0,
          22,
          9,
          0,
          122,
          0,
          0,
          0,
          4,
          169,
          7,
          15,
          0,
          0,
          238,
          76,
          0,
          1,
          36,
          0,
          12,
          97,
          14,
          21,
          26,
          31,
          5,
          40,
          0,
          104,
          34,
          0,
          0,
          16,
          40,
          0,
          0,
          0,
          196,
          3,
          71,
          212,
          0,
          0,
          0,
          0,
          0,
          0,
          7,
          0,
          0,
          0,
          230,
          0,
          0,
          0,
          0,
          0,
          6,
          0,
          0,
          516,
          117,
          0,
          0,
          236,
          0,
          17,
          0,
          0,
          0,
          0,
          0,
          5,
          124,
          115,
          0,
          62,
          39,
          238,
          0,
          3,
          0,
          17,
          0,
          0,
          1,
          16,
          1,
          0,
          0,
          6,
          0,
          311,
          6,
          0,
          27,
          6,
          17,
          0,
          0,
          0,
          16,
          3,
          0,
          7,
          318,
          11,
          26,
          0,
          6,
          78,
          0,
          0,
          0,
          0,
          0,
          0,
          8,
          0,
          169,
          0,
          0,
          0,
          0,
          8,
          0,
          68,
          51,
          0,
          33,
          3,
          0,
          6,
          34,
          48,
          0,
          8,
          340,
          0,
          27,
          0,
          0,
          0,
          14,
          0,
          380,
          0,
          8,
          0,
          0,
          0,
          17,
          20,
          12,
          0,
          0,
          0,
          0,
          13,
          0,
          0,
          2,
          0,
          244,
          0,
          0,
          0,
          6,
          0,
          0,
          0,
          0,
          0,
          0,
          0,
          0,
          10,
          0,
          0,
          42,
          0,
          15,
          0,
          0,
          0,
          0,
          0,
          28,
          0,
          0,
          0,
          0,
          0,
          0,
          0,
          0,
          0,
          0,
          22,
          33,
          0,
          0,
          0,
          0,
          0,
          0,
          0,
          0,
          106,
          0,
          0,
          0,
          24,
          0,
          19,
          0,
          0,
          0,
          0,
          0,
          0,
          39,
          0,
          19,
          0,
          108,
          0,
          1,
          0,
          17,
          0,
          184,
          0,
          417,
          15,
          0,
          3,
          52,
          0,
          0,
          0,
          0,
          0,
          14,
          0,
          0,
          21,
          207,
          44,
          0,
          0,
          344,
          0,
          0,
          7,
          0,
          0,
          16,
          0,
          1,
          9,
          42,
          0,
          134,
          174,
          56,
          24,
          3,
          5,
          0,
          3,
          0,
          26,
          0,
          144,
          30,
          3,
          0,
          7,
          0,
          24,
          26,
          7,
          0,
          0,
          31,
          61,
          0,
          0,
          0,
          70,
          58,
          0,
          0,
          0,
          0,
          9,
          0,
          13,
          0,
          8,
          11,
          0,
          30,
          65,
          0,
          11,
          0,
          0,
          0,
          15,
          1,
          3,
          6,
          0,
          2,
          14,
          0,
          0,
          19,
          0,
          60,
          0,
          0,
          0,
          0,
          0,
          136,
          70,
          16,
          0,
          0,
          5,
          2,
          0,
          0,
          3,
          0,
          0,
          0,
          0,
          0,
          181,
          29,
          0,
          0,
          0,
          0,
          0,
          0,
          31,
          16,
          0,
          0,
          153,
          40,
          27,
          0,
          0,
          0,
          14,
          0,
          0,
          2,
          23,
          10,
          6,
          84,
          47,
          0,
          22,
          0,
          34,
          0,
          0,
          0,
          0,
          0,
          0,
          0,
          0,
          0,
          0,
          0,
          10,
          0,
          0,
          0,
          12,
          27,
          0,
          0,
          1,
          0,
          0,
          0,
          0,
          3,
          18,
          15,
          0,
          0,
          80,
          74,
          66,
          310,
          3,
          0,
          2,
          0,
          93,
          24,
          0,
          13,
          0,
          89,
          0,
          0,
          0,
          6,
          42,
          0,
          2,
          0,
          68,
          0,
          0,
          0,
          0,
          7,
          0,
          371,
          0,
          25,
          88,
          0,
          0,
          0,
          0,
          0,
          0,
          6,
          0,
          44,
          0,
          0,
          15,
          6,
          31,
          91,
          62,
          0,
          43,
          0,
          0,
          0,
          0,
          31,
          0,
          0,
          0,
          0,
          0,
          15,
          43,
          106,
          0,
          0,
          0,
          75,
          0,
          0,
          0,
          0,
          6,
          0,
          1002,
          13,
          0,
          21,
          182,
          0,
          0,
          173,
          0,
          0,
          0,
          0,
          62,
          0,
          0,
          0,
          3,
          280,
          0,
          77,
          0,
          605,
          0,
          10,
          13,
          40,
          0,
          0,
          40,
          0,
          0,
          5,
          1,
          0,
          12,
          0,
          1,
          2,
          3,
          0,
          0,
          0,
          0,
          0,
          10,
          52,
          0,
          0,
          0,
          11,
          30,
          11,
          0,
          0,
          0,
          0,
          1,
          0,
          54,
          15,
          26,
          0,
          0,
          0,
          0,
          0,
          0,
          9,
          155,
          0,
          0,
          3,
          0,
          118,
          18,
          0,
          0,
          0,
          0,
          0,
          420,
          0,
          0,
          2,
          14,
          0,
          6,
          53,
          60,
          0,
          5,
          0,
          635,
          10,
          0,
          6,
          386,
          0,
          3,
          31,
          8,
          479,
          0,
          14,
          0,
          0,
          24,
          666,
          0,
          11,
          0,
          0,
          0,
          0,
          85,
          0,
          10,
          7,
          38,
          0,
          18,
          0,
          13,
          0,
          17,
          2,
          0,
          0,
          20,
          13,
          0,
          0,
          0,
          0,
          7,
          97,
          0,
          404,
          0,
          32,
          0,
          0,
          2,
          0,
          19,
          19,
          27,
          0,
          0,
          0,
          0,
          5,
          0,
          313,
          7,
          144,
          0,
          0,
          0,
          0,
          0,
          0,
          0,
          8,
          667,
          3,
          3,
          0,
          0,
          0,
          1,
          8,
          0,
          11,
          0,
          0,
          126,
          0,
          3,
          16,
          0,
          15,
          15,
          45,
          10,
          0,
          0,
          0,
          0,
          24,
          0,
          36,
          0,
          14,
          0,
          0,
          25,
          1,
          0,
          23,
          1,
          9,
          0,
          0,
          0,
          0,
          87,
          0,
          480,
          0,
          0,
          17,
          0,
          0,
          0,
          32,
          0,
          5,
          19,
          3,
          0,
          16,
          14,
          0,
          0,
          0,
          0,
          0,
          1,
          0,
          6,
          0,
          20,
          0,
          2,
          0,
          0,
          0,
          0,
          0,
          0,
          18,
          142,
          30,
          145,
          3,
          0,
          93,
          0,
          26,
          0,
          0,
          0,
          56,
          59,
          0,
          0,
          0,
          155,
          0,
          1,
          74,
          7,
          0,
          0,
          49,
          0,
          7,
          0,
          4,
          0,
          5,
          0,
          0,
          14,
          0,
          0,
          0,
          1,
          0,
          0,
          0,
          0,
          0,
          201,
          9,
          91,
          0,
          28,
          84,
          97,
          0,
          0,
          0,
          11,
          0,
          0,
          0,
          39,
          8,
          40,
          17,
          46,
          0,
          0,
          0,
          3,
          0,
          0,
          12,
          0,
          0,
          0,
          0,
          0,
          67,
          15,
          18,
          0,
          0,
          0,
          0,
          18,
          297,
          0,
          0,
          0,
          0,
          0,
          0,
          14,
          5,
          0,
          0,
          25,
          24,
          0,
          0,
          0,
          0,
          0,
          0,
          0,
          0,
          16,
          7,
          0,
          0,
          24,
          0,
          0,
          213,
          0,
          18,
          0,
          20,
          0,
          10,
          21,
          0,
          0,
          7,
          31,
          154,
          252,
          102,
          0,
          150,
          0,
          6,
          189,
          0,
          0,
          16,
          2,
          33,
          13,
          13,
          625,
          12,
          0,
          47,
          77,
          14,
          0,
          23,
          0,
          0,
          56,
          4,
          0,
          0,
          0,
          1,
          0,
          0,
          33,
          0,
          0,
          0,
          0,
          0,
          13,
          11,
          10,
          0,
          14,
          0,
          0,
          0,
          0,
          28,
          0,
          27,
          12,
          161,
          0,
          0,
          0,
          0,
          0,
          0,
          0,
          11,
          0,
          0,
          56,
          0,
          0,
          19,
          0,
          698,
          10,
          0,
          11,
          344,
          21,
          0,
          0,
          23,
          10,
          0,
          0,
          104,
          0,
          80,
          220,
          54,
          0,
          0,
          2,
          0,
          74,
          254,
          32,
          16,
          28,
          1,
          151,
          75,
          46,
          51,
          1,
          0,
          142,
          0,
          0,
          1,
          0,
          67,
          0,
          0,
          0,
          4,
          0,
          0,
          8,
          0,
          20,
          0,
          0,
          0,
          0,
          0,
          0,
          0,
          0,
          0,
          0,
          0,
          70,
          105,
          109,
          125,
          13,
          0,
          1,
          157,
          13,
          0,
          0,
          0,
          0,
          0,
          9,
          0,
          0,
          12,
          8,
          1,
          22,
          0,
          118,
          0,
          0,
          12,
          6,
          0,
          0,
          18,
          70,
          62,
          0,
          0,
          0,
          7,
          6,
          3,
          0,
          0,
          0,
          38,
          14,
          0,
          0,
          0,
          0,
          136,
          0,
          0,
          0,
          30,
          8,
          0,
          0,
          0,
          0,
          53,
          0,
          0,
          0,
          21,
          9,
          71,
          0,
          50,
          107,
          16,
          0,
          0,
          0,
          0,
          26,
          0,
          7,
          0,
          0,
          0,
          35,
          0,
          0,
          0,
          0,
          0,
          0,
          0,
          0,
          0,
          20,
          0,
          12,
          0,
          3,
          0,
          79,
          13,
          0,
          0,
          0,
          23,
          0,
          7,
          25,
          0,
          0,
          0,
          28,
          0,
          0,
          0,
          3,
          0,
          0,
          0,
          0,
          0,
          0,
          10,
          0,
          0,
          0,
          26,
          80,
          0,
          0,
          0,
          0,
          0,
          192,
          0,
          54,
          125,
          0,
          0,
          31,
          13,
          0,
          0,
          0,
          48,
          10,
          42,
          273,
          0,
          57,
          0,
          0,
          2,
          0,
          0,
          0,
          174,
          0,
          0,
          0,
          10,
          18,
          5,
          0,
          0,
          13,
          0,
          8,
          2,
          34,
          220,
          6,
          0,
          0,
          19,
          46,
          11,
          0,
          8,
          24,
          7,
          19,
          0,
          17,
          0,
          0,
          0,
          4,
          0,
          0,
          0,
          0,
          0,
          200,
          24,
          0,
          1,
          109,
          8,
          0,
          0,
          118,
          0,
          38,
          0,
          0,
          4,
          8,
          0,
          0,
          0,
          0,
          24,
          47,
          0,
          5,
          0,
          0,
          0
         ],
         "yaxis": "y"
        },
        {
         "hoverlabel": {
          "namelength": 0
         },
         "hovertemplate": "cluster=1<br>cases=%{x}<br>deaths=%{y}",
         "legendgroup": "cluster=1",
         "marker": {
          "color": "#EF553B",
          "symbol": "circle"
         },
         "mode": "markers",
         "name": "cluster=1",
         "showlegend": true,
         "type": "scattergl",
         "x": [
          71121,
          97593,
          63344,
          39302,
          41917,
          54023,
          51873,
          68285,
          47715,
          66911,
          36806,
          55970,
          49238,
          34080,
          34210,
          61833,
          38410,
          92987,
          87378
         ],
         "xaxis": "x",
         "y": [
          2117,
          2079,
          2129,
          1106,
          800,
          1704,
          3741,
          1486,
          341,
          1433,
          1795,
          736,
          2067,
          473,
          387,
          743,
          767,
          3643,
          3236
         ],
         "yaxis": "y"
        },
        {
         "hoverlabel": {
          "namelength": 0
         },
         "hovertemplate": "cluster=2<br>cases=%{x}<br>deaths=%{y}",
         "legendgroup": "cluster=2",
         "marker": {
          "color": "#00CC96",
          "symbol": "circle"
         },
         "mode": "markers",
         "name": "cluster=2",
         "showlegend": true,
         "type": "scattergl",
         "x": [
          181164,
          182515,
          191176
         ],
         "xaxis": "x",
         "y": [
          4026,
          2421,
          1936
         ],
         "yaxis": "y"
        },
        {
         "hoverlabel": {
          "namelength": 0
         },
         "hovertemplate": "cluster=3<br>cases=%{x}<br>deaths=%{y}",
         "legendgroup": "cluster=3",
         "marker": {
          "color": "#AB63FA",
          "symbol": "circle"
         },
         "mode": "markers",
         "name": "cluster=3",
         "showlegend": true,
         "type": "scattergl",
         "x": [
          868824
         ],
         "xaxis": "x",
         "y": [
          31887
         ],
         "yaxis": "y"
        },
        {
         "marker": {
          "color": [
           "#636EFA",
           "#EF553B",
           "#00CC96",
           "#AB63FA"
          ],
          "size": [
           20,
           20,
           20,
           20
          ],
          "symbol": "x"
         },
         "mode": "markers",
         "name": "Centroid",
         "type": "scatter",
         "x": [
          1046.2533936651585,
          57526.10526315789,
          184951.66666666666,
          868824
         ],
         "y": [
          25.062702003878474,
          1620.157894736842,
          2794.3333333333335,
          31887
         ]
        }
       ],
       "layout": {
        "autosize": true,
        "legend": {
         "tracegroupgap": 0
        },
        "template": {
         "data": {
          "bar": [
           {
            "error_x": {
             "color": "#2a3f5f"
            },
            "error_y": {
             "color": "#2a3f5f"
            },
            "marker": {
             "line": {
              "color": "#E5ECF6",
              "width": 0.5
             }
            },
            "type": "bar"
           }
          ],
          "barpolar": [
           {
            "marker": {
             "line": {
              "color": "#E5ECF6",
              "width": 0.5
             }
            },
            "type": "barpolar"
           }
          ],
          "carpet": [
           {
            "aaxis": {
             "endlinecolor": "#2a3f5f",
             "gridcolor": "white",
             "linecolor": "white",
             "minorgridcolor": "white",
             "startlinecolor": "#2a3f5f"
            },
            "baxis": {
             "endlinecolor": "#2a3f5f",
             "gridcolor": "white",
             "linecolor": "white",
             "minorgridcolor": "white",
             "startlinecolor": "#2a3f5f"
            },
            "type": "carpet"
           }
          ],
          "choropleth": [
           {
            "colorbar": {
             "outlinewidth": 0,
             "ticks": ""
            },
            "type": "choropleth"
           }
          ],
          "contour": [
           {
            "colorbar": {
             "outlinewidth": 0,
             "ticks": ""
            },
            "colorscale": [
             [
              0,
              "#0d0887"
             ],
             [
              0.1111111111111111,
              "#46039f"
             ],
             [
              0.2222222222222222,
              "#7201a8"
             ],
             [
              0.3333333333333333,
              "#9c179e"
             ],
             [
              0.4444444444444444,
              "#bd3786"
             ],
             [
              0.5555555555555556,
              "#d8576b"
             ],
             [
              0.6666666666666666,
              "#ed7953"
             ],
             [
              0.7777777777777778,
              "#fb9f3a"
             ],
             [
              0.8888888888888888,
              "#fdca26"
             ],
             [
              1,
              "#f0f921"
             ]
            ],
            "type": "contour"
           }
          ],
          "contourcarpet": [
           {
            "colorbar": {
             "outlinewidth": 0,
             "ticks": ""
            },
            "type": "contourcarpet"
           }
          ],
          "heatmap": [
           {
            "colorbar": {
             "outlinewidth": 0,
             "ticks": ""
            },
            "colorscale": [
             [
              0,
              "#0d0887"
             ],
             [
              0.1111111111111111,
              "#46039f"
             ],
             [
              0.2222222222222222,
              "#7201a8"
             ],
             [
              0.3333333333333333,
              "#9c179e"
             ],
             [
              0.4444444444444444,
              "#bd3786"
             ],
             [
              0.5555555555555556,
              "#d8576b"
             ],
             [
              0.6666666666666666,
              "#ed7953"
             ],
             [
              0.7777777777777778,
              "#fb9f3a"
             ],
             [
              0.8888888888888888,
              "#fdca26"
             ],
             [
              1,
              "#f0f921"
             ]
            ],
            "type": "heatmap"
           }
          ],
          "heatmapgl": [
           {
            "colorbar": {
             "outlinewidth": 0,
             "ticks": ""
            },
            "colorscale": [
             [
              0,
              "#0d0887"
             ],
             [
              0.1111111111111111,
              "#46039f"
             ],
             [
              0.2222222222222222,
              "#7201a8"
             ],
             [
              0.3333333333333333,
              "#9c179e"
             ],
             [
              0.4444444444444444,
              "#bd3786"
             ],
             [
              0.5555555555555556,
              "#d8576b"
             ],
             [
              0.6666666666666666,
              "#ed7953"
             ],
             [
              0.7777777777777778,
              "#fb9f3a"
             ],
             [
              0.8888888888888888,
              "#fdca26"
             ],
             [
              1,
              "#f0f921"
             ]
            ],
            "type": "heatmapgl"
           }
          ],
          "histogram": [
           {
            "marker": {
             "colorbar": {
              "outlinewidth": 0,
              "ticks": ""
             }
            },
            "type": "histogram"
           }
          ],
          "histogram2d": [
           {
            "colorbar": {
             "outlinewidth": 0,
             "ticks": ""
            },
            "colorscale": [
             [
              0,
              "#0d0887"
             ],
             [
              0.1111111111111111,
              "#46039f"
             ],
             [
              0.2222222222222222,
              "#7201a8"
             ],
             [
              0.3333333333333333,
              "#9c179e"
             ],
             [
              0.4444444444444444,
              "#bd3786"
             ],
             [
              0.5555555555555556,
              "#d8576b"
             ],
             [
              0.6666666666666666,
              "#ed7953"
             ],
             [
              0.7777777777777778,
              "#fb9f3a"
             ],
             [
              0.8888888888888888,
              "#fdca26"
             ],
             [
              1,
              "#f0f921"
             ]
            ],
            "type": "histogram2d"
           }
          ],
          "histogram2dcontour": [
           {
            "colorbar": {
             "outlinewidth": 0,
             "ticks": ""
            },
            "colorscale": [
             [
              0,
              "#0d0887"
             ],
             [
              0.1111111111111111,
              "#46039f"
             ],
             [
              0.2222222222222222,
              "#7201a8"
             ],
             [
              0.3333333333333333,
              "#9c179e"
             ],
             [
              0.4444444444444444,
              "#bd3786"
             ],
             [
              0.5555555555555556,
              "#d8576b"
             ],
             [
              0.6666666666666666,
              "#ed7953"
             ],
             [
              0.7777777777777778,
              "#fb9f3a"
             ],
             [
              0.8888888888888888,
              "#fdca26"
             ],
             [
              1,
              "#f0f921"
             ]
            ],
            "type": "histogram2dcontour"
           }
          ],
          "mesh3d": [
           {
            "colorbar": {
             "outlinewidth": 0,
             "ticks": ""
            },
            "type": "mesh3d"
           }
          ],
          "parcoords": [
           {
            "line": {
             "colorbar": {
              "outlinewidth": 0,
              "ticks": ""
             }
            },
            "type": "parcoords"
           }
          ],
          "pie": [
           {
            "automargin": true,
            "type": "pie"
           }
          ],
          "scatter": [
           {
            "marker": {
             "colorbar": {
              "outlinewidth": 0,
              "ticks": ""
             }
            },
            "type": "scatter"
           }
          ],
          "scatter3d": [
           {
            "line": {
             "colorbar": {
              "outlinewidth": 0,
              "ticks": ""
             }
            },
            "marker": {
             "colorbar": {
              "outlinewidth": 0,
              "ticks": ""
             }
            },
            "type": "scatter3d"
           }
          ],
          "scattercarpet": [
           {
            "marker": {
             "colorbar": {
              "outlinewidth": 0,
              "ticks": ""
             }
            },
            "type": "scattercarpet"
           }
          ],
          "scattergeo": [
           {
            "marker": {
             "colorbar": {
              "outlinewidth": 0,
              "ticks": ""
             }
            },
            "type": "scattergeo"
           }
          ],
          "scattergl": [
           {
            "marker": {
             "colorbar": {
              "outlinewidth": 0,
              "ticks": ""
             }
            },
            "type": "scattergl"
           }
          ],
          "scattermapbox": [
           {
            "marker": {
             "colorbar": {
              "outlinewidth": 0,
              "ticks": ""
             }
            },
            "type": "scattermapbox"
           }
          ],
          "scatterpolar": [
           {
            "marker": {
             "colorbar": {
              "outlinewidth": 0,
              "ticks": ""
             }
            },
            "type": "scatterpolar"
           }
          ],
          "scatterpolargl": [
           {
            "marker": {
             "colorbar": {
              "outlinewidth": 0,
              "ticks": ""
             }
            },
            "type": "scatterpolargl"
           }
          ],
          "scatterternary": [
           {
            "marker": {
             "colorbar": {
              "outlinewidth": 0,
              "ticks": ""
             }
            },
            "type": "scatterternary"
           }
          ],
          "surface": [
           {
            "colorbar": {
             "outlinewidth": 0,
             "ticks": ""
            },
            "colorscale": [
             [
              0,
              "#0d0887"
             ],
             [
              0.1111111111111111,
              "#46039f"
             ],
             [
              0.2222222222222222,
              "#7201a8"
             ],
             [
              0.3333333333333333,
              "#9c179e"
             ],
             [
              0.4444444444444444,
              "#bd3786"
             ],
             [
              0.5555555555555556,
              "#d8576b"
             ],
             [
              0.6666666666666666,
              "#ed7953"
             ],
             [
              0.7777777777777778,
              "#fb9f3a"
             ],
             [
              0.8888888888888888,
              "#fdca26"
             ],
             [
              1,
              "#f0f921"
             ]
            ],
            "type": "surface"
           }
          ],
          "table": [
           {
            "cells": {
             "fill": {
              "color": "#EBF0F8"
             },
             "line": {
              "color": "white"
             }
            },
            "header": {
             "fill": {
              "color": "#C8D4E3"
             },
             "line": {
              "color": "white"
             }
            },
            "type": "table"
           }
          ]
         },
         "layout": {
          "annotationdefaults": {
           "arrowcolor": "#2a3f5f",
           "arrowhead": 0,
           "arrowwidth": 1
          },
          "coloraxis": {
           "colorbar": {
            "outlinewidth": 0,
            "ticks": ""
           }
          },
          "colorscale": {
           "diverging": [
            [
             0,
             "#8e0152"
            ],
            [
             0.1,
             "#c51b7d"
            ],
            [
             0.2,
             "#de77ae"
            ],
            [
             0.3,
             "#f1b6da"
            ],
            [
             0.4,
             "#fde0ef"
            ],
            [
             0.5,
             "#f7f7f7"
            ],
            [
             0.6,
             "#e6f5d0"
            ],
            [
             0.7,
             "#b8e186"
            ],
            [
             0.8,
             "#7fbc41"
            ],
            [
             0.9,
             "#4d9221"
            ],
            [
             1,
             "#276419"
            ]
           ],
           "sequential": [
            [
             0,
             "#0d0887"
            ],
            [
             0.1111111111111111,
             "#46039f"
            ],
            [
             0.2222222222222222,
             "#7201a8"
            ],
            [
             0.3333333333333333,
             "#9c179e"
            ],
            [
             0.4444444444444444,
             "#bd3786"
            ],
            [
             0.5555555555555556,
             "#d8576b"
            ],
            [
             0.6666666666666666,
             "#ed7953"
            ],
            [
             0.7777777777777778,
             "#fb9f3a"
            ],
            [
             0.8888888888888888,
             "#fdca26"
            ],
            [
             1,
             "#f0f921"
            ]
           ],
           "sequentialminus": [
            [
             0,
             "#0d0887"
            ],
            [
             0.1111111111111111,
             "#46039f"
            ],
            [
             0.2222222222222222,
             "#7201a8"
            ],
            [
             0.3333333333333333,
             "#9c179e"
            ],
            [
             0.4444444444444444,
             "#bd3786"
            ],
            [
             0.5555555555555556,
             "#d8576b"
            ],
            [
             0.6666666666666666,
             "#ed7953"
            ],
            [
             0.7777777777777778,
             "#fb9f3a"
            ],
            [
             0.8888888888888888,
             "#fdca26"
            ],
            [
             1,
             "#f0f921"
            ]
           ]
          },
          "colorway": [
           "#636efa",
           "#EF553B",
           "#00cc96",
           "#ab63fa",
           "#FFA15A",
           "#19d3f3",
           "#FF6692",
           "#B6E880",
           "#FF97FF",
           "#FECB52"
          ],
          "font": {
           "color": "#2a3f5f"
          },
          "geo": {
           "bgcolor": "white",
           "lakecolor": "white",
           "landcolor": "#E5ECF6",
           "showlakes": true,
           "showland": true,
           "subunitcolor": "white"
          },
          "hoverlabel": {
           "align": "left"
          },
          "hovermode": "closest",
          "mapbox": {
           "style": "light"
          },
          "paper_bgcolor": "white",
          "plot_bgcolor": "#E5ECF6",
          "polar": {
           "angularaxis": {
            "gridcolor": "white",
            "linecolor": "white",
            "ticks": ""
           },
           "bgcolor": "#E5ECF6",
           "radialaxis": {
            "gridcolor": "white",
            "linecolor": "white",
            "ticks": ""
           }
          },
          "scene": {
           "xaxis": {
            "backgroundcolor": "#E5ECF6",
            "gridcolor": "white",
            "gridwidth": 2,
            "linecolor": "white",
            "showbackground": true,
            "ticks": "",
            "zerolinecolor": "white"
           },
           "yaxis": {
            "backgroundcolor": "#E5ECF6",
            "gridcolor": "white",
            "gridwidth": 2,
            "linecolor": "white",
            "showbackground": true,
            "ticks": "",
            "zerolinecolor": "white"
           },
           "zaxis": {
            "backgroundcolor": "#E5ECF6",
            "gridcolor": "white",
            "gridwidth": 2,
            "linecolor": "white",
            "showbackground": true,
            "ticks": "",
            "zerolinecolor": "white"
           }
          },
          "shapedefaults": {
           "line": {
            "color": "#2a3f5f"
           }
          },
          "ternary": {
           "aaxis": {
            "gridcolor": "white",
            "linecolor": "white",
            "ticks": ""
           },
           "baxis": {
            "gridcolor": "white",
            "linecolor": "white",
            "ticks": ""
           },
           "bgcolor": "#E5ECF6",
           "caxis": {
            "gridcolor": "white",
            "linecolor": "white",
            "ticks": ""
           }
          },
          "title": {
           "x": 0.05
          },
          "xaxis": {
           "automargin": true,
           "gridcolor": "white",
           "linecolor": "white",
           "ticks": "",
           "title": {
            "standoff": 15
           },
           "zerolinecolor": "white",
           "zerolinewidth": 2
          },
          "yaxis": {
           "automargin": true,
           "gridcolor": "white",
           "linecolor": "white",
           "ticks": "",
           "title": {
            "standoff": 15
           },
           "zerolinecolor": "white",
           "zerolinewidth": 2
          }
         }
        },
        "title": {
         "text": "Data and Centroids"
        },
        "xaxis": {
         "anchor": "y",
         "autorange": true,
         "domain": [
          0,
          1
         ],
         "range": [
          -62785.745465582404,
          932655.9988592475
         ],
         "title": {
          "text": "cases"
         },
         "type": "linear"
        },
        "yaxis": {
         "anchor": "x",
         "autorange": true,
         "domain": [
          0,
          1
         ],
         "range": [
          -3774.9848656470353,
          35687.047567650916
         ],
         "title": {
          "text": "deaths"
         },
         "type": "linear"
        }
       }
      },
      "image/png": "[encoded data removed]"
     },
     "metadata": {},
     "output_type": "display_data"
    }
   ],
   "source": [
    "sol.show_plot()"
   ]
  },
  {
   "cell_type": "markdown",
   "metadata": {},
   "source": [
    "Cada cluster acima com seu centróide associado representam pontos, ou nesse caso cidades, que possuem um comportamento de casos e mortes de covid-19 semelhantes. Podemos analisar as médias das distâncias dos pontos de cada cluster a seu centróide."
   ]
  },
  {
   "cell_type": "code",
   "execution_count": 9,
   "metadata": {},
   "outputs": [
    {
     "data": {
      "text/plain": [
       "{0: 1414.6360905979095, 1: 15765.070397464966, 2: 4243.742836836397, 3: 0.0}"
      ]
     },
     "execution_count": 9,
     "metadata": {},
     "output_type": "execute_result"
    }
   ],
   "source": [
    "## demonstrando as distâncias\n",
    "\n",
    "sol.distances_('mean')"
   ]
  },
  {
   "cell_type": "markdown",
   "metadata": {},
   "source": [
    "Interpretando as distâncias acima podemos averiguar que o cluster 3 é o mais assertivo, visto o valor zerado, na verdade podemos dizer, com certeza, que o centróide desse cluster está exatamente na mesma coordenada do seu único ponto. Em segundo lugar, temos o cluster 0 com uma distância média de 1414, ou seja, seus pontos estão próximos ao centróide. Em terceiro lugar temos o cluster 2 demosntrando uma distância média de 4243 de seus pontos e, em último lugar, temos o cluster 1 com uma distância de 15765 esse alto valor demonstra que o cluster possui pontos esparsos."
   ]
  },
  {
   "cell_type": "markdown",
   "metadata": {},
   "source": [
    "Conferindo a inércia do algoritmo montado podemos ver que nossa versão está bem próxima da implementação do próprio KMeans do scikit-learn."
   ]
  },
  {
   "cell_type": "code",
   "execution_count": 10,
   "metadata": {},
   "outputs": [
    {
     "data": {
      "text/plain": [
       "19332075047.23671"
      ]
     },
     "execution_count": 10,
     "metadata": {},
     "output_type": "execute_result"
    }
   ],
   "source": [
    "## inércia do MyKMeans\n",
    "\n",
    "sol.distances_('inertia')"
   ]
  },
  {
   "cell_type": "code",
   "execution_count": 11,
   "metadata": {},
   "outputs": [
    {
     "data": {
      "text/plain": [
       "19332075047.236717"
      ]
     },
     "execution_count": 11,
     "metadata": {},
     "output_type": "execute_result"
    }
   ],
   "source": [
    "## inércia do sklearn.cluster.KMeans\n",
    "\n",
    "from sklearn.cluster import KMeans\n",
    "KMeans(n_clusters=4,max_iter=300,tol=0.0001).fit(df[['cases','deaths']].values).inertia_"
   ]
  },
  {
   "cell_type": "markdown",
   "metadata": {},
   "source": [
    "O único downside do algoritmo montado nesse jupyter notebook é em termos de desempenho. Conforme demonstrado abaixo."
   ]
  },
  {
   "cell_type": "code",
   "execution_count": 12,
   "metadata": {},
   "outputs": [
    {
     "name": "stdout",
     "output_type": "stream",
     "text": [
      "17.2 ms ± 642 µs per loop (mean ± std. dev. of 7 runs, 100 loops each)\n"
     ]
    }
   ],
   "source": [
    "%%timeit\n",
    "KMeans(n_clusters=4,max_iter=300,tol=0.0001).fit(df[['cases','deaths']].values)"
   ]
  },
  {
   "cell_type": "code",
   "execution_count": 13,
   "metadata": {},
   "outputs": [
    {
     "name": "stdout",
     "output_type": "stream",
     "text": [
      "341 ms ± 25.2 ms per loop (mean ± std. dev. of 7 runs, 1 loop each)\n"
     ]
    }
   ],
   "source": [
    "%%timeit\n",
    "sol = MyKMeans(k=4,max_iter=300,tol=0.0001,data=df[['cases','deaths']].values)\n",
    "sol.fit_k_means()"
   ]
  }
 ],
 "metadata": {
  "kernelspec": {
   "display_name": "Python 3.7.6 64-bit ('base': conda)",
   "language": "python",
   "name": "python37664bitbaseconda774df39cacc84caf9286edd8f47a70cc"
  },
  "language_info": {
   "codemirror_mode": {
    "name": "ipython",
    "version": 3
   },
   "file_extension": ".py",
   "mimetype": "text/x-python",
   "name": "python",
   "nbconvert_exporter": "python",
   "pygments_lexer": "ipython3",
   "version": "3.7.6"
  }
 },
 "nbformat": 4,
 "nbformat_minor": 4
}
